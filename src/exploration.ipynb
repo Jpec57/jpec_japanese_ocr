{
 "cells": [
  {
   "cell_type": "markdown",
   "metadata": {},
   "source": [
    "# Dataset exploration"
   ]
  },
  {
   "cell_type": "markdown",
   "metadata": {},
   "source": [
    "## Loading Data"
   ]
  },
  {
   "cell_type": "code",
   "execution_count": 25,
   "metadata": {},
   "outputs": [],
   "source": [
    "import pandas as pd\n",
    "import numpy as np\n",
    "import seaborn as sns \n",
    "import matplotlib.pyplot as plt\n",
    "import japanese_utils as jp_utils\n",
    "import matplotlib.font_manager as fm\n",
    "fprop = fm.FontProperties(fname='../fonts/noto_sans_jp/NotoSansJP-Regular.otf')\n",
    "\n",
    "fe = fm.FontEntry(\n",
    "    fname='../fonts/noto_sans_jp/NotoSansJP-Regular.otf',\n",
    "    name='NotoSansJp'\n",
    ")\n",
    "fm.fontManager.ttflist.insert(0, fe)\n",
    "plt.rcParams['font.family'] = fe.name\n",
    "\n",
    "plt.rcParams.update({'font.sans-serif':'NotoSansJp'})\n",
    "plt.rcParams.update({'font.family':'NotoSansJp'})\n",
    "\n",
    "\n",
    "# To reset to default\n",
    "#plt.rcdefaults()\n"
   ]
  },
  {
   "cell_type": "code",
   "execution_count": 2,
   "metadata": {},
   "outputs": [
    {
     "data": {
      "text/html": [
       "<div>\n",
       "<style scoped>\n",
       "    .dataframe tbody tr th:only-of-type {\n",
       "        vertical-align: middle;\n",
       "    }\n",
       "\n",
       "    .dataframe tbody tr th {\n",
       "        vertical-align: top;\n",
       "    }\n",
       "\n",
       "    .dataframe thead th {\n",
       "        text-align: right;\n",
       "    }\n",
       "</style>\n",
       "<table border=\"1\" class=\"dataframe\">\n",
       "  <thead>\n",
       "    <tr style=\"text-align: right;\">\n",
       "      <th></th>\n",
       "      <th>character</th>\n",
       "      <th>filepath</th>\n",
       "      <th>source</th>\n",
       "    </tr>\n",
       "  </thead>\n",
       "  <tbody>\n",
       "    <tr>\n",
       "      <th>0</th>\n",
       "      <td>I</td>\n",
       "      <td>final_data/char_images/0x0049/etl1_027062.png</td>\n",
       "      <td>ETL1</td>\n",
       "    </tr>\n",
       "    <tr>\n",
       "      <th>1</th>\n",
       "      <td>I</td>\n",
       "      <td>final_data/char_images/0x0049/etl1_027076.png</td>\n",
       "      <td>ETL1</td>\n",
       "    </tr>\n",
       "    <tr>\n",
       "      <th>2</th>\n",
       "      <td>I</td>\n",
       "      <td>final_data/char_images/0x0049/etl1_026368.png</td>\n",
       "      <td>ETL1</td>\n",
       "    </tr>\n",
       "    <tr>\n",
       "      <th>3</th>\n",
       "      <td>I</td>\n",
       "      <td>final_data/char_images/0x0049/etl1_026340.png</td>\n",
       "      <td>ETL1</td>\n",
       "    </tr>\n",
       "    <tr>\n",
       "      <th>4</th>\n",
       "      <td>I</td>\n",
       "      <td>final_data/char_images/0x0049/etl1_026426.png</td>\n",
       "      <td>ETL1</td>\n",
       "    </tr>\n",
       "  </tbody>\n",
       "</table>\n",
       "</div>"
      ],
      "text/plain": [
       "  character                                       filepath source\n",
       "0         I  final_data/char_images/0x0049/etl1_027062.png   ETL1\n",
       "1         I  final_data/char_images/0x0049/etl1_027076.png   ETL1\n",
       "2         I  final_data/char_images/0x0049/etl1_026368.png   ETL1\n",
       "3         I  final_data/char_images/0x0049/etl1_026340.png   ETL1\n",
       "4         I  final_data/char_images/0x0049/etl1_026426.png   ETL1"
      ]
     },
     "execution_count": 2,
     "metadata": {},
     "output_type": "execute_result"
    }
   ],
   "source": [
    "df = pd.read_csv(\"../final_data/japanese_characters.csv\")\n",
    "df.head()"
   ]
  },
  {
   "cell_type": "code",
   "execution_count": 3,
   "metadata": {},
   "outputs": [],
   "source": [
    "chars = df['character']"
   ]
  },
  {
   "cell_type": "markdown",
   "metadata": {},
   "source": [
    "## Checking data"
   ]
  },
  {
   "cell_type": "code",
   "execution_count": 4,
   "metadata": {},
   "outputs": [],
   "source": [
    "def show_df_img(df, char_index, path_prefix='../'):\n",
    "    complete_path = path_prefix + df.iloc[char_index]['filepath']\n",
    "    img = plt.imread(complete_path)\n",
    "    plt.imshow(img);"
   ]
  },
  {
   "cell_type": "code",
   "execution_count": 5,
   "metadata": {},
   "outputs": [
    {
     "name": "stdout",
     "output_type": "stream",
     "text": [
      "ク\n"
     ]
    }
   ],
   "source": [
    "char_index = 100000\n",
    "ku = chars[char_index]\n",
    "print(ku)"
   ]
  },
  {
   "cell_type": "markdown",
   "metadata": {},
   "source": [
    "The `char_index=1000` character should a \"ク\". We can visualize its image to make sure that we didn't mess up at some point"
   ]
  },
  {
   "cell_type": "code",
   "execution_count": 6,
   "metadata": {},
   "outputs": [
    {
     "data": {
      "image/png": "[encoded data removed]",
      "text/plain": [
       "<Figure size 432x288 with 1 Axes>"
      ]
     },
     "metadata": {
      "needs_background": "light"
     },
     "output_type": "display_data"
    }
   ],
   "source": [
    "show_df_img(df, char_index)"
   ]
  },
  {
   "cell_type": "markdown",
   "metadata": {},
   "source": [
    "## Preprocessing"
   ]
  },
  {
   "cell_type": "markdown",
   "metadata": {},
   "source": [
    "We will now cut our dataframe into 3 separate ones:\n",
    "- kanji\n",
    "- hiragana\n",
    "- katakana\n",
    "\n",
    "This division represents the main three alphabets existing in the japanese language. We will ignore the romaji (latin letters) for the time being as it is not japanese specific. "
   ]
  },
  {
   "cell_type": "code",
   "execution_count": 7,
   "metadata": {},
   "outputs": [
    {
     "data": {
      "text/plain": [
       "False    1102703\n",
       "True       71501\n",
       "Name: is_hiragana, dtype: int64"
      ]
     },
     "execution_count": 7,
     "metadata": {},
     "output_type": "execute_result"
    }
   ],
   "source": [
    "df['is_hiragana'] = df['character'].apply(lambda x: type(x) == str and jp_utils.is_hiragana_full(x))\n",
    "df['is_hiragana'].value_counts()"
   ]
  },
  {
   "cell_type": "code",
   "execution_count": 8,
   "metadata": {},
   "outputs": [
    {
     "data": {
      "text/plain": [
       "False    1026955\n",
       "True      147249\n",
       "Name: is_katakana, dtype: int64"
      ]
     },
     "execution_count": 8,
     "metadata": {},
     "output_type": "execute_result"
    }
   ],
   "source": [
    "df['is_katakana'] = df['character'].apply(lambda x: type(x) == str and jp_utils.is_katakana_full(x))\n",
    "df['is_katakana'].value_counts()"
   ]
  },
  {
   "cell_type": "code",
   "execution_count": 9,
   "metadata": {},
   "outputs": [
    {
     "data": {
      "text/plain": [
       "True     782561\n",
       "False    391643\n",
       "Name: is_kanji, dtype: int64"
      ]
     },
     "execution_count": 9,
     "metadata": {},
     "output_type": "execute_result"
    }
   ],
   "source": [
    "df['is_kanji'] = df['character'].apply(lambda x: type(x) == str and jp_utils.is_kanji(x))\n",
    "df['is_kanji'].value_counts()"
   ]
  },
  {
   "cell_type": "code",
   "execution_count": 10,
   "metadata": {},
   "outputs": [],
   "source": [
    "hiragana_df = df[df['is_hiragana']]\n",
    "katakana_df = df[df['is_katakana']]\n",
    "kanji_df = df[df['is_kanji']]"
   ]
  },
  {
   "cell_type": "markdown",
   "metadata": {},
   "source": [
    "## Distribution"
   ]
  },
  {
   "cell_type": "code",
   "execution_count": 44,
   "metadata": {},
   "outputs": [
    {
     "data": {
      "text/plain": [
       "゚    2083\n",
       "゙    2083\n",
       "う    1341\n",
       "い    1341\n",
       "え    1341\n",
       "     ... \n",
       "っ     161\n",
       "ゅ     161\n",
       "ゃ     161\n",
       "ぃ     120\n",
       "ぇ     120\n",
       "Name: character, Length: 79, dtype: int64"
      ]
     },
     "execution_count": 44,
     "metadata": {},
     "output_type": "execute_result"
    }
   ],
   "source": [
    "hir_counts = hiragana_df['character'].value_counts()\n",
    "hir_counts"
   ]
  },
  {
   "cell_type": "code",
   "execution_count": 41,
   "metadata": {},
   "outputs": [
    {
     "data": {
      "image/png": "[encoded data removed]",
      "text/plain": [
       "<Figure size 1152x576 with 1 Axes>"
      ]
     },
     "metadata": {
      "needs_background": "light"
     },
     "output_type": "display_data"
    }
   ],
   "source": [
    "plt.figure(figsize=(16, 8))\n",
    "plt.bar(range(len(hir_counts)), hir_counts.values, align='center')\n",
    "plt.xticks(range(len(hir_counts)), hir_counts.index.values, size='small')\n",
    "plt.show()"
   ]
  },
  {
   "cell_type": "markdown",
   "metadata": {},
   "source": [
    "### Katakana"
   ]
  },
  {
   "cell_type": "code",
   "execution_count": 43,
   "metadata": {},
   "outputs": [
    {
     "data": {
      "text/plain": [
       "エ    4633\n",
       "ウ    4633\n",
       "イ    4633\n",
       "ラ    3014\n",
       "マ    3014\n",
       "     ... \n",
       "ギ      20\n",
       "ブ      20\n",
       "パ      20\n",
       "ヂ      20\n",
       "・      12\n",
       "Name: character, Length: 74, dtype: int64"
      ]
     },
     "execution_count": 43,
     "metadata": {},
     "output_type": "execute_result"
    }
   ],
   "source": [
    "kat_counts = katakana_df['character'].value_counts()\n",
    "kat_counts"
   ]
  },
  {
   "cell_type": "code",
   "execution_count": 45,
   "metadata": {},
   "outputs": [
    {
     "data": {
      "image/png": "[encoded data removed]",
      "text/plain": [
       "<Figure size 1152x576 with 1 Axes>"
      ]
     },
     "metadata": {
      "needs_background": "light"
     },
     "output_type": "display_data"
    }
   ],
   "source": [
    "plt.figure(figsize=(16, 8))\n",
    "plt.bar(range(len(kat_counts)), kat_counts.values, align='center')\n",
    "plt.xticks(range(len(kat_counts)), kat_counts.index.values, size='small')\n",
    "plt.show()"
   ]
  },
  {
   "cell_type": "markdown",
   "metadata": {},
   "source": [
    "# TODO Later"
   ]
  },
  {
   "cell_type": "code",
   "execution_count": 22,
   "metadata": {},
   "outputs": [
    {
     "name": "stderr",
     "output_type": "stream",
     "text": [
      "/Users/jpec/opt/anaconda3/envs/kanji/lib/python3.10/site-packages/IPython/core/pylabtools.py:151: UserWarning: Glyph 12477 (\\N{KATAKANA LETTER SO}) missing from current font.\n",
      "  fig.canvas.print_figure(bytes_io, **kw)\n",
      "/Users/jpec/opt/anaconda3/envs/kanji/lib/python3.10/site-packages/IPython/core/pylabtools.py:151: UserWarning: Glyph 12459 (\\N{KATAKANA LETTER KA}) missing from current font.\n",
      "  fig.canvas.print_figure(bytes_io, **kw)\n",
      "/Users/jpec/opt/anaconda3/envs/kanji/lib/python3.10/site-packages/IPython/core/pylabtools.py:151: UserWarning: Glyph 12504 (\\N{KATAKANA LETTER HE}) missing from current font.\n",
      "  fig.canvas.print_figure(bytes_io, **kw)\n",
      "/Users/jpec/opt/anaconda3/envs/kanji/lib/python3.10/site-packages/IPython/core/pylabtools.py:151: UserWarning: Glyph 12511 (\\N{KATAKANA LETTER MI}) missing from current font.\n",
      "  fig.canvas.print_figure(bytes_io, **kw)\n",
      "/Users/jpec/opt/anaconda3/envs/kanji/lib/python3.10/site-packages/IPython/core/pylabtools.py:151: UserWarning: Glyph 12467 (\\N{KATAKANA LETTER KO}) missing from current font.\n",
      "  fig.canvas.print_figure(bytes_io, **kw)\n",
      "/Users/jpec/opt/anaconda3/envs/kanji/lib/python3.10/site-packages/IPython/core/pylabtools.py:151: UserWarning: Glyph 12450 (\\N{KATAKANA LETTER A}) missing from current font.\n",
      "  fig.canvas.print_figure(bytes_io, **kw)\n",
      "/Users/jpec/opt/anaconda3/envs/kanji/lib/python3.10/site-packages/IPython/core/pylabtools.py:151: UserWarning: Glyph 12461 (\\N{KATAKANA LETTER KI}) missing from current font.\n",
      "  fig.canvas.print_figure(bytes_io, **kw)\n",
      "/Users/jpec/opt/anaconda3/envs/kanji/lib/python3.10/site-packages/IPython/core/pylabtools.py:151: UserWarning: Glyph 12475 (\\N{KATAKANA LETTER SE}) missing from current font.\n",
      "  fig.canvas.print_figure(bytes_io, **kw)\n",
      "/Users/jpec/opt/anaconda3/envs/kanji/lib/python3.10/site-packages/IPython/core/pylabtools.py:151: UserWarning: Glyph 12452 (\\N{KATAKANA LETTER I}) missing from current font.\n",
      "  fig.canvas.print_figure(bytes_io, **kw)\n",
      "/Users/jpec/opt/anaconda3/envs/kanji/lib/python3.10/site-packages/IPython/core/pylabtools.py:151: UserWarning: Glyph 12451 (\\N{KATAKANA LETTER SMALL I}) missing from current font.\n",
      "  fig.canvas.print_figure(bytes_io, **kw)\n",
      "/Users/jpec/opt/anaconda3/envs/kanji/lib/python3.10/site-packages/IPython/core/pylabtools.py:151: UserWarning: Glyph 12469 (\\N{KATAKANA LETTER SA}) missing from current font.\n",
      "  fig.canvas.print_figure(bytes_io, **kw)\n",
      "/Users/jpec/opt/anaconda3/envs/kanji/lib/python3.10/site-packages/IPython/core/pylabtools.py:151: UserWarning: Glyph 12488 (\\N{KATAKANA LETTER TO}) missing from current font.\n",
      "  fig.canvas.print_figure(bytes_io, **kw)\n",
      "/Users/jpec/opt/anaconda3/envs/kanji/lib/python3.10/site-packages/IPython/core/pylabtools.py:151: UserWarning: Glyph 12481 (\\N{KATAKANA LETTER TI}) missing from current font.\n",
      "  fig.canvas.print_figure(bytes_io, **kw)\n",
      "/Users/jpec/opt/anaconda3/envs/kanji/lib/python3.10/site-packages/IPython/core/pylabtools.py:151: UserWarning: Glyph 12525 (\\N{KATAKANA LETTER RO}) missing from current font.\n",
      "  fig.canvas.print_figure(bytes_io, **kw)\n",
      "/Users/jpec/opt/anaconda3/envs/kanji/lib/python3.10/site-packages/IPython/core/pylabtools.py:151: UserWarning: Glyph 12524 (\\N{KATAKANA LETTER RE}) missing from current font.\n",
      "  fig.canvas.print_figure(bytes_io, **kw)\n",
      "/Users/jpec/opt/anaconda3/envs/kanji/lib/python3.10/site-packages/IPython/core/pylabtools.py:151: UserWarning: Glyph 12486 (\\N{KATAKANA LETTER TE}) missing from current font.\n",
      "  fig.canvas.print_figure(bytes_io, **kw)\n",
      "/Users/jpec/opt/anaconda3/envs/kanji/lib/python3.10/site-packages/IPython/core/pylabtools.py:151: UserWarning: Glyph 12530 (\\N{KATAKANA LETTER WO}) missing from current font.\n",
      "  fig.canvas.print_figure(bytes_io, **kw)\n",
      "/Users/jpec/opt/anaconda3/envs/kanji/lib/python3.10/site-packages/IPython/core/pylabtools.py:151: UserWarning: Glyph 12495 (\\N{KATAKANA LETTER HA}) missing from current font.\n",
      "  fig.canvas.print_figure(bytes_io, **kw)\n",
      "/Users/jpec/opt/anaconda3/envs/kanji/lib/python3.10/site-packages/IPython/core/pylabtools.py:151: UserWarning: Glyph 12516 (\\N{KATAKANA LETTER YA}) missing from current font.\n",
      "  fig.canvas.print_figure(bytes_io, **kw)\n",
      "/Users/jpec/opt/anaconda3/envs/kanji/lib/python3.10/site-packages/IPython/core/pylabtools.py:151: UserWarning: Glyph 12490 (\\N{KATAKANA LETTER NA}) missing from current font.\n",
      "  fig.canvas.print_figure(bytes_io, **kw)\n",
      "/Users/jpec/opt/anaconda3/envs/kanji/lib/python3.10/site-packages/IPython/core/pylabtools.py:151: UserWarning: Glyph 12523 (\\N{KATAKANA LETTER RU}) missing from current font.\n",
      "  fig.canvas.print_figure(bytes_io, **kw)\n",
      "/Users/jpec/opt/anaconda3/envs/kanji/lib/python3.10/site-packages/IPython/core/pylabtools.py:151: UserWarning: Glyph 12514 (\\N{KATAKANA LETTER MO}) missing from current font.\n",
      "  fig.canvas.print_figure(bytes_io, **kw)\n",
      "/Users/jpec/opt/anaconda3/envs/kanji/lib/python3.10/site-packages/IPython/core/pylabtools.py:151: UserWarning: Glyph 12531 (\\N{KATAKANA LETTER N}) missing from current font.\n",
      "  fig.canvas.print_figure(bytes_io, **kw)\n",
      "/Users/jpec/opt/anaconda3/envs/kanji/lib/python3.10/site-packages/IPython/core/pylabtools.py:151: UserWarning: Glyph 12456 (\\N{KATAKANA LETTER E}) missing from current font.\n",
      "  fig.canvas.print_figure(bytes_io, **kw)\n",
      "/Users/jpec/opt/anaconda3/envs/kanji/lib/python3.10/site-packages/IPython/core/pylabtools.py:151: UserWarning: Glyph 12507 (\\N{KATAKANA LETTER HO}) missing from current font.\n",
      "  fig.canvas.print_figure(bytes_io, **kw)\n",
      "/Users/jpec/opt/anaconda3/envs/kanji/lib/python3.10/site-packages/IPython/core/pylabtools.py:151: UserWarning: Glyph 12471 (\\N{KATAKANA LETTER SI}) missing from current font.\n",
      "  fig.canvas.print_figure(bytes_io, **kw)\n",
      "/Users/jpec/opt/anaconda3/envs/kanji/lib/python3.10/site-packages/IPython/core/pylabtools.py:151: UserWarning: Glyph 12510 (\\N{KATAKANA LETTER MA}) missing from current font.\n",
      "  fig.canvas.print_figure(bytes_io, **kw)\n",
      "/Users/jpec/opt/anaconda3/envs/kanji/lib/python3.10/site-packages/IPython/core/pylabtools.py:151: UserWarning: Glyph 12473 (\\N{KATAKANA LETTER SU}) missing from current font.\n",
      "  fig.canvas.print_figure(bytes_io, **kw)\n",
      "/Users/jpec/opt/anaconda3/envs/kanji/lib/python3.10/site-packages/IPython/core/pylabtools.py:151: UserWarning: Glyph 12454 (\\N{KATAKANA LETTER U}) missing from current font.\n",
      "  fig.canvas.print_figure(bytes_io, **kw)\n",
      "/Users/jpec/opt/anaconda3/envs/kanji/lib/python3.10/site-packages/IPython/core/pylabtools.py:151: UserWarning: Glyph 12501 (\\N{KATAKANA LETTER HU}) missing from current font.\n",
      "  fig.canvas.print_figure(bytes_io, **kw)\n",
      "/Users/jpec/opt/anaconda3/envs/kanji/lib/python3.10/site-packages/IPython/core/pylabtools.py:151: UserWarning: Glyph 12498 (\\N{KATAKANA LETTER HI}) missing from current font.\n",
      "  fig.canvas.print_figure(bytes_io, **kw)\n",
      "/Users/jpec/opt/anaconda3/envs/kanji/lib/python3.10/site-packages/IPython/core/pylabtools.py:151: UserWarning: Glyph 12458 (\\N{KATAKANA LETTER O}) missing from current font.\n",
      "  fig.canvas.print_figure(bytes_io, **kw)\n",
      "/Users/jpec/opt/anaconda3/envs/kanji/lib/python3.10/site-packages/IPython/core/pylabtools.py:151: UserWarning: Glyph 12463 (\\N{KATAKANA LETTER KU}) missing from current font.\n",
      "  fig.canvas.print_figure(bytes_io, **kw)\n",
      "/Users/jpec/opt/anaconda3/envs/kanji/lib/python3.10/site-packages/IPython/core/pylabtools.py:151: UserWarning: Glyph 12455 (\\N{KATAKANA LETTER SMALL E}) missing from current font.\n",
      "  fig.canvas.print_figure(bytes_io, **kw)\n",
      "/Users/jpec/opt/anaconda3/envs/kanji/lib/python3.10/site-packages/IPython/core/pylabtools.py:151: UserWarning: Glyph 12465 (\\N{KATAKANA LETTER KE}) missing from current font.\n",
      "  fig.canvas.print_figure(bytes_io, **kw)\n",
      "/Users/jpec/opt/anaconda3/envs/kanji/lib/python3.10/site-packages/IPython/core/pylabtools.py:151: UserWarning: Glyph 12479 (\\N{KATAKANA LETTER TA}) missing from current font.\n",
      "  fig.canvas.print_figure(bytes_io, **kw)\n",
      "/Users/jpec/opt/anaconda3/envs/kanji/lib/python3.10/site-packages/IPython/core/pylabtools.py:151: UserWarning: Glyph 12521 (\\N{KATAKANA LETTER RA}) missing from current font.\n",
      "  fig.canvas.print_figure(bytes_io, **kw)\n",
      "/Users/jpec/opt/anaconda3/envs/kanji/lib/python3.10/site-packages/IPython/core/pylabtools.py:151: UserWarning: Glyph 12491 (\\N{KATAKANA LETTER NI}) missing from current font.\n",
      "  fig.canvas.print_figure(bytes_io, **kw)\n",
      "/Users/jpec/opt/anaconda3/envs/kanji/lib/python3.10/site-packages/IPython/core/pylabtools.py:151: UserWarning: Glyph 12512 (\\N{KATAKANA LETTER MU}) missing from current font.\n",
      "  fig.canvas.print_figure(bytes_io, **kw)\n",
      "/Users/jpec/opt/anaconda3/envs/kanji/lib/python3.10/site-packages/IPython/core/pylabtools.py:151: UserWarning: Glyph 12494 (\\N{KATAKANA LETTER NO}) missing from current font.\n",
      "  fig.canvas.print_figure(bytes_io, **kw)\n",
      "/Users/jpec/opt/anaconda3/envs/kanji/lib/python3.10/site-packages/IPython/core/pylabtools.py:151: UserWarning: Glyph 12493 (\\N{KATAKANA LETTER NE}) missing from current font.\n",
      "  fig.canvas.print_figure(bytes_io, **kw)\n",
      "/Users/jpec/opt/anaconda3/envs/kanji/lib/python3.10/site-packages/IPython/core/pylabtools.py:151: UserWarning: Glyph 12513 (\\N{KATAKANA LETTER ME}) missing from current font.\n",
      "  fig.canvas.print_figure(bytes_io, **kw)\n",
      "/Users/jpec/opt/anaconda3/envs/kanji/lib/python3.10/site-packages/IPython/core/pylabtools.py:151: UserWarning: Glyph 12518 (\\N{KATAKANA LETTER YU}) missing from current font.\n",
      "  fig.canvas.print_figure(bytes_io, **kw)\n",
      "/Users/jpec/opt/anaconda3/envs/kanji/lib/python3.10/site-packages/IPython/core/pylabtools.py:151: UserWarning: Glyph 12492 (\\N{KATAKANA LETTER NU}) missing from current font.\n",
      "  fig.canvas.print_figure(bytes_io, **kw)\n",
      "/Users/jpec/opt/anaconda3/envs/kanji/lib/python3.10/site-packages/IPython/core/pylabtools.py:151: UserWarning: Glyph 12520 (\\N{KATAKANA LETTER YO}) missing from current font.\n",
      "  fig.canvas.print_figure(bytes_io, **kw)\n",
      "/Users/jpec/opt/anaconda3/envs/kanji/lib/python3.10/site-packages/IPython/core/pylabtools.py:151: UserWarning: Glyph 12527 (\\N{KATAKANA LETTER WA}) missing from current font.\n",
      "  fig.canvas.print_figure(bytes_io, **kw)\n",
      "/Users/jpec/opt/anaconda3/envs/kanji/lib/python3.10/site-packages/IPython/core/pylabtools.py:151: UserWarning: Glyph 12522 (\\N{KATAKANA LETTER RI}) missing from current font.\n",
      "  fig.canvas.print_figure(bytes_io, **kw)\n",
      "/Users/jpec/opt/anaconda3/envs/kanji/lib/python3.10/site-packages/IPython/core/pylabtools.py:151: UserWarning: Glyph 12484 (\\N{KATAKANA LETTER TU}) missing from current font.\n",
      "  fig.canvas.print_figure(bytes_io, **kw)\n",
      "/Users/jpec/opt/anaconda3/envs/kanji/lib/python3.10/site-packages/IPython/core/pylabtools.py:151: UserWarning: Glyph 12497 (\\N{KATAKANA LETTER PA}) missing from current font.\n",
      "  fig.canvas.print_figure(bytes_io, **kw)\n",
      "/Users/jpec/opt/anaconda3/envs/kanji/lib/python3.10/site-packages/IPython/core/pylabtools.py:151: UserWarning: Glyph 12476 (\\N{KATAKANA LETTER ZE}) missing from current font.\n",
      "  fig.canvas.print_figure(bytes_io, **kw)\n",
      "/Users/jpec/opt/anaconda3/envs/kanji/lib/python3.10/site-packages/IPython/core/pylabtools.py:151: UserWarning: Glyph 12502 (\\N{KATAKANA LETTER BU}) missing from current font.\n",
      "  fig.canvas.print_figure(bytes_io, **kw)\n",
      "/Users/jpec/opt/anaconda3/envs/kanji/lib/python3.10/site-packages/IPython/core/pylabtools.py:151: UserWarning: Glyph 12462 (\\N{KATAKANA LETTER GI}) missing from current font.\n",
      "  fig.canvas.print_figure(bytes_io, **kw)\n",
      "/Users/jpec/opt/anaconda3/envs/kanji/lib/python3.10/site-packages/IPython/core/pylabtools.py:151: UserWarning: Glyph 12468 (\\N{KATAKANA LETTER GO}) missing from current font.\n",
      "  fig.canvas.print_figure(bytes_io, **kw)\n",
      "/Users/jpec/opt/anaconda3/envs/kanji/lib/python3.10/site-packages/IPython/core/pylabtools.py:151: UserWarning: Glyph 12506 (\\N{KATAKANA LETTER PE}) missing from current font.\n",
      "  fig.canvas.print_figure(bytes_io, **kw)\n",
      "/Users/jpec/opt/anaconda3/envs/kanji/lib/python3.10/site-packages/IPython/core/pylabtools.py:151: UserWarning: Glyph 12460 (\\N{KATAKANA LETTER GA}) missing from current font.\n",
      "  fig.canvas.print_figure(bytes_io, **kw)\n",
      "/Users/jpec/opt/anaconda3/envs/kanji/lib/python3.10/site-packages/IPython/core/pylabtools.py:151: UserWarning: Glyph 12505 (\\N{KATAKANA LETTER BE}) missing from current font.\n",
      "  fig.canvas.print_figure(bytes_io, **kw)\n",
      "/Users/jpec/opt/anaconda3/envs/kanji/lib/python3.10/site-packages/IPython/core/pylabtools.py:151: UserWarning: Glyph 12503 (\\N{KATAKANA LETTER PU}) missing from current font.\n",
      "  fig.canvas.print_figure(bytes_io, **kw)\n",
      "/Users/jpec/opt/anaconda3/envs/kanji/lib/python3.10/site-packages/IPython/core/pylabtools.py:151: UserWarning: Glyph 12478 (\\N{KATAKANA LETTER ZO}) missing from current font.\n",
      "  fig.canvas.print_figure(bytes_io, **kw)\n",
      "/Users/jpec/opt/anaconda3/envs/kanji/lib/python3.10/site-packages/IPython/core/pylabtools.py:151: UserWarning: Glyph 12496 (\\N{KATAKANA LETTER BA}) missing from current font.\n",
      "  fig.canvas.print_figure(bytes_io, **kw)\n",
      "/Users/jpec/opt/anaconda3/envs/kanji/lib/python3.10/site-packages/IPython/core/pylabtools.py:151: UserWarning: Glyph 12466 (\\N{KATAKANA LETTER GE}) missing from current font.\n",
      "  fig.canvas.print_figure(bytes_io, **kw)\n",
      "/Users/jpec/opt/anaconda3/envs/kanji/lib/python3.10/site-packages/IPython/core/pylabtools.py:151: UserWarning: Glyph 12539 (\\N{KATAKANA MIDDLE DOT}) missing from current font.\n",
      "  fig.canvas.print_figure(bytes_io, **kw)\n",
      "/Users/jpec/opt/anaconda3/envs/kanji/lib/python3.10/site-packages/IPython/core/pylabtools.py:151: UserWarning: Glyph 12487 (\\N{KATAKANA LETTER DE}) missing from current font.\n",
      "  fig.canvas.print_figure(bytes_io, **kw)\n",
      "/Users/jpec/opt/anaconda3/envs/kanji/lib/python3.10/site-packages/IPython/core/pylabtools.py:151: UserWarning: Glyph 12480 (\\N{KATAKANA LETTER DA}) missing from current font.\n",
      "  fig.canvas.print_figure(bytes_io, **kw)\n",
      "/Users/jpec/opt/anaconda3/envs/kanji/lib/python3.10/site-packages/IPython/core/pylabtools.py:151: UserWarning: Glyph 12489 (\\N{KATAKANA LETTER DO}) missing from current font.\n",
      "  fig.canvas.print_figure(bytes_io, **kw)\n",
      "/Users/jpec/opt/anaconda3/envs/kanji/lib/python3.10/site-packages/IPython/core/pylabtools.py:151: UserWarning: Glyph 12464 (\\N{KATAKANA LETTER GU}) missing from current font.\n",
      "  fig.canvas.print_figure(bytes_io, **kw)\n",
      "/Users/jpec/opt/anaconda3/envs/kanji/lib/python3.10/site-packages/IPython/core/pylabtools.py:151: UserWarning: Glyph 12472 (\\N{KATAKANA LETTER ZI}) missing from current font.\n",
      "  fig.canvas.print_figure(bytes_io, **kw)\n",
      "/Users/jpec/opt/anaconda3/envs/kanji/lib/python3.10/site-packages/IPython/core/pylabtools.py:151: UserWarning: Glyph 12509 (\\N{KATAKANA LETTER PO}) missing from current font.\n",
      "  fig.canvas.print_figure(bytes_io, **kw)\n",
      "/Users/jpec/opt/anaconda3/envs/kanji/lib/python3.10/site-packages/IPython/core/pylabtools.py:151: UserWarning: Glyph 12470 (\\N{KATAKANA LETTER ZA}) missing from current font.\n",
      "  fig.canvas.print_figure(bytes_io, **kw)\n",
      "/Users/jpec/opt/anaconda3/envs/kanji/lib/python3.10/site-packages/IPython/core/pylabtools.py:151: UserWarning: Glyph 12508 (\\N{KATAKANA LETTER BO}) missing from current font.\n",
      "  fig.canvas.print_figure(bytes_io, **kw)\n",
      "/Users/jpec/opt/anaconda3/envs/kanji/lib/python3.10/site-packages/IPython/core/pylabtools.py:151: UserWarning: Glyph 12499 (\\N{KATAKANA LETTER BI}) missing from current font.\n",
      "  fig.canvas.print_figure(bytes_io, **kw)\n",
      "/Users/jpec/opt/anaconda3/envs/kanji/lib/python3.10/site-packages/IPython/core/pylabtools.py:151: UserWarning: Glyph 12474 (\\N{KATAKANA LETTER ZU}) missing from current font.\n",
      "  fig.canvas.print_figure(bytes_io, **kw)\n",
      "/Users/jpec/opt/anaconda3/envs/kanji/lib/python3.10/site-packages/IPython/core/pylabtools.py:151: UserWarning: Glyph 12500 (\\N{KATAKANA LETTER PI}) missing from current font.\n",
      "  fig.canvas.print_figure(bytes_io, **kw)\n",
      "/Users/jpec/opt/anaconda3/envs/kanji/lib/python3.10/site-packages/IPython/core/pylabtools.py:151: UserWarning: Glyph 12485 (\\N{KATAKANA LETTER DU}) missing from current font.\n",
      "  fig.canvas.print_figure(bytes_io, **kw)\n",
      "/Users/jpec/opt/anaconda3/envs/kanji/lib/python3.10/site-packages/IPython/core/pylabtools.py:151: UserWarning: Glyph 12482 (\\N{KATAKANA LETTER DI}) missing from current font.\n",
      "  fig.canvas.print_figure(bytes_io, **kw)\n"
     ]
    },
    {
     "data": {
      "image/png": "[encoded data removed]",
      "text/plain": [
       "<Figure size 1008x576 with 1 Axes>"
      ]
     },
     "metadata": {
      "needs_background": "light"
     },
     "output_type": "display_data"
    }
   ],
   "source": [
    "from matplotlib.font_manager import FontProperties\n",
    "prop = FontProperties()\n",
    "\n",
    "plt.figure(figsize=(14, 8))\n",
    "#plt.hist(katakana_df['character'])\n",
    "#plt.show();\n",
    "katakana_df['character'].hist();"
   ]
  },
  {
   "cell_type": "markdown",
   "metadata": {},
   "source": [
    "### Kanji"
   ]
  },
  {
   "cell_type": "code",
   "execution_count": 53,
   "metadata": {},
   "outputs": [],
   "source": [
    "kanjis_count = kanji_df['character'].value_counts()[-50:]"
   ]
  },
  {
   "cell_type": "code",
   "execution_count": 54,
   "metadata": {},
   "outputs": [
    {
     "data": {
      "image/png": "[encoded data removed]",
      "text/plain": [
       "<Figure size 1152x576 with 1 Axes>"
      ]
     },
     "metadata": {
      "needs_background": "light"
     },
     "output_type": "display_data"
    }
   ],
   "source": [
    "plt.figure(figsize=(16, 8))\n",
    "plt.bar(range(len(kanjis_count)), kanjis_count.values, align='center')\n",
    "plt.xticks(range(len(kanjis_count)), kanjis_count.index.values, size='small')\n",
    "plt.show()"
   ]
  }
 ],
 "metadata": {
  "kernelspec": {
   "display_name": "Python 3.10.4 ('kanji')",
   "language": "python",
   "name": "python3"
  },
  "language_info": {
   "codemirror_mode": {
    "name": "ipython",
    "version": 3
   },
   "file_extension": ".py",
   "mimetype": "text/x-python",
   "name": "python",
   "nbconvert_exporter": "python",
   "pygments_lexer": "ipython3",
   "version": "3.10.4"
  },
  "orig_nbformat": 4,
  "vscode": {
   "interpreter": {
    "hash": "8857f5b91e8d731c11d7f61113ae8fabda6e508c790ea0cec564ac8f425c06dd"
   }
  }
 },
 "nbformat": 4,
 "nbformat_minor": 2
}
