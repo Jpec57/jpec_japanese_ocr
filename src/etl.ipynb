{
 "cells": [
  {
   "cell_type": "markdown",
   "metadata": {},
   "source": [
    "# ETL1 Database"
   ]
  },
  {
   "cell_type": "code",
   "execution_count": 4,
   "metadata": {},
   "outputs": [],
   "source": [
    "import pandas as pd\n",
    "import numpy as np\n",
    "import os\n",
    "import io\n",
    "import json\n",
    "\n",
    "import bitstring\n",
    "\n",
    "# from tqdm import tqdm\n",
    "import numpy as np\n",
    "import matplotlib.pyplot as plt\n",
    "# import cv2\n",
    "\n",
    "from PIL import Image\n",
    "#import IPython.display as display\n",
    "\n",
    "df = pd.read_csv(\"ETL1C_01.csv\")\n",
    "df.head()\n",
    "\n",
    "\n",
    "part_filepaths = [    \n",
    "    'ETL1C_01',\n",
    "    'ETL1C_02',\n",
    "]\n",
    "\n",
    "for part_filepath in part_filepaths:\n",
    "    if not os.path.exists(part_filepath):\n",
    "        raise Exception(part_filepath, 'does not exist!')\n",
    "\n",
    "sample_filepath = part_filepaths[0]\n",
    "\n",
    "IMG_WIDTH = 64\n",
    "IMG_HEIGHT = 63\n",
    "\n",
    "bitstring_unpack_str = ','.join([\n",
    "    'int:36', # Serial Index - [0]\n",
    "    'uint:6', # Source ('A': Mincho Newspaper, 'B': Gothic Newspaper, 'C': Mincho Patent, 'D': Gothic Patent) - [1]\n",
    "    'pad:30', # padding bits - no index as they are skipped\n",
    "    '6*uint:6', # Class ('KANJI': kanji, 'EIJI': roman alphabets, 'HRKANA': hiragana, 'KTKANA': katakana, 'KIGO': special characters, 'SUUJI': numbers) - [2:8]\n",
    "    '6*uint:6', # Font ('MINCHO', 'GOTHIC') - [8:14]\n",
    "    'pad:24', # padding bits\n",
    "    '2*uint:6', # CO-59 Code - [14:16]\n",
    "    'pad:180', # padding bits\n",
    "    'bytes:2700', # 6-bit-depth image of 60 x 60 = 3600 pixels - [16]\n",
    "])"
   ]
  },
  {
   "cell_type": "code",
   "execution_count": null,
   "metadata": {},
   "outputs": [],
   "source": [
    "infile = bitstring.ConstBitStream(filename=sample_filepath)\n",
    "unpacked_data = infile.readlist(bitstring_unpack_str)\n",
    "\n",
    "pil_image = Image.frombytes('F', (IMG_WIDTH, IMG_HEIGHT), record[16], 'bit', 6)\n",
    "\n",
    "np_img = np.array(pil_image)\n",
    "\n",
    "plt.imshow(np_img)\n",
    "plt.colorbar()"
   ]
  }
 ],
 "metadata": {
  "kernelspec": {
   "display_name": "Python 3.10.4 ('kanji')",
   "language": "python",
   "name": "python3"
  },
  "language_info": {
   "codemirror_mode": {
    "name": "ipython",
    "version": 3
   },
   "file_extension": ".py",
   "mimetype": "text/x-python",
   "name": "python",
   "nbconvert_exporter": "python",
   "pygments_lexer": "ipython3",
   "version": "3.10.4"
  },
  "orig_nbformat": 4,
  "vscode": {
   "interpreter": {
    "hash": "8857f5b91e8d731c11d7f61113ae8fabda6e508c790ea0cec564ac8f425c06dd"
   }
  }
 },
 "nbformat": 4,
 "nbformat_minor": 2
}
